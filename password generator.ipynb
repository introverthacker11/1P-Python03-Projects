{
 "cells": [
  {
   "cell_type": "code",
   "execution_count": null,
   "id": "ba888939",
   "metadata": {},
   "outputs": [
    {
     "name": "stdout",
     "output_type": "stream",
     "text": [
      "________________________________________________________________________________________________________________________\n",
      "\n",
      "Enter password or access will be denied!: Affan Mental\n",
      "\n",
      "Access Granted!\n",
      "\n",
      "Enter your name: Rayyan\n",
      "\n",
      "Enter your gender (male/female/rather not say): male\n",
      "\n",
      "Mr.Rayyan!\n",
      "Your new password is: m6|@gmail.com\n"
     ]
    }
   ],
   "source": [
    "import random\n",
    "\n",
    "while True :\n",
    "    \n",
    "    try :\n",
    "        \n",
    "        print('_' * 120)\n",
    "        pass_ = 'Affan Mental'\n",
    "        passw = input('\\nEnter password or access will be denied!: ')\n",
    "        \n",
    "        if pass_ == passw :\n",
    "            \n",
    "            print('\\nAccess Granted!')\n",
    "            name = input('\\nEnter your name: ')\n",
    "            gender = input('\\nEnter your gender (male/female/rather not say): ')\n",
    "            \n",
    "            if gender == 'male' :\n",
    "                x = 'Mr.'              \n",
    "            elif gender == 'female' :\n",
    "                x = 'Mrs.'\n",
    "            elif gender == 'rather not say' :\n",
    "                x = 'None'\n",
    "            else :\n",
    "                print('Enter correct gender (male/female/rather not say)')\n",
    "                \n",
    "            alp = 'abcdefghijklmnopqrstuvwxyz'\n",
    "            choice1 = random.choice(alp)\n",
    "            num = '1234567890'\n",
    "            choice2 = random.choice(num)\n",
    "            charc = '!#$%/\\|&*'\n",
    "            choice3 = random.choice(charc)\n",
    "            #leng = int(input('\\nWhat is your required length for your new password: ')) to see\n",
    "            password = choice1 + choice2 + choice3\n",
    "            print(f'\\n{x}{name}!\\nYour new password is: {password}@gmail.com')\n",
    "            \n",
    "        else :\n",
    "            print('\\nIncorrect Password!\\nAccess Denied.')\n",
    "            \n",
    "    except :\n",
    "        print('Enter valid input!')\n",
    "        \n",
    "    run = input('\\nDo you Wanna run again (y/n)?: ')\n",
    "    \n",
    "    if run != 'y' :\n",
    "        print('You choosed to exit!')\n",
    "        break"
   ]
  },
  {
   "cell_type": "code",
   "execution_count": null,
   "id": "9e18bc00",
   "metadata": {},
   "outputs": [],
   "source": []
  }
 ],
 "metadata": {
  "kernelspec": {
   "display_name": "Python 3 (ipykernel)",
   "language": "python",
   "name": "python3"
  },
  "language_info": {
   "codemirror_mode": {
    "name": "ipython",
    "version": 3
   },
   "file_extension": ".py",
   "mimetype": "text/x-python",
   "name": "python",
   "nbconvert_exporter": "python",
   "pygments_lexer": "ipython3",
   "version": "3.11.5"
  }
 },
 "nbformat": 4,
 "nbformat_minor": 5
}
